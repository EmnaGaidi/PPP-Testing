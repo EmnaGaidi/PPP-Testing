{
 "cells": [
  {
   "cell_type": "markdown",
   "id": "23ac4adc",
   "metadata": {},
   "source": [
    "# Imports"
   ]
  },
  {
   "cell_type": "code",
   "execution_count": 1,
   "id": "ebc05272",
   "metadata": {},
   "outputs": [],
   "source": [
    "from nltk.corpus import stopwords\n",
    "from nltk.stem.wordnet import WordNetLemmatizer\n",
    "from textblob import TextBlob\n",
    "from textblob.classifiers import NaiveBayesClassifier\n",
    "from nltk.stem import PorterStemmer\n",
    "from textblob import Word\n",
    "from nltk.util import ngrams\n",
    "import re, numpy, nltk, string, xgboost\n",
    "from nltk.tokenize import word_tokenize\n",
    "import matplotlib.pyplot as plt\n",
    "from sklearn.feature_extraction.text import CountVectorizer,TfidfVectorizer\n",
    "from sklearn.decomposition import LatentDirichletAllocation,NMF,TruncatedSVD\n",
    "import sklearn.feature_extraction.text as text\n",
    "from sklearn import model_selection, preprocessing, linear_model, naive_bayes, metrics, svm,decomposition, ensemble\n",
    "import pandas as pd\n",
    "from sklearn.metrics import classification_report, confusion_matrix, accuracy_score, mean_absolute_error"
   ]
  },
  {
   "cell_type": "markdown",
   "id": "bf395458",
   "metadata": {},
   "source": [
    "# Data Cleaning and Preprocessing"
   ]
  },
  {
   "cell_type": "code",
   "execution_count": 2,
   "id": "5e4db231",
   "metadata": {},
   "outputs": [],
   "source": [
    "data = pd.read_csv('C:/Users/emnag/ISEAR.csv')"
   ]
  },
  {
   "cell_type": "code",
   "execution_count": 3,
   "id": "a65a68b5",
   "metadata": {},
   "outputs": [],
   "source": [
    "data.columns=['EMOTION','TEXT','UNAMED']"
   ]
  },
  {
   "cell_type": "code",
   "execution_count": 4,
   "id": "af9fa6d6",
   "metadata": {
    "scrolled": true
   },
   "outputs": [
    {
     "data": {
      "text/html": [
       "<div>\n",
       "<style scoped>\n",
       "    .dataframe tbody tr th:only-of-type {\n",
       "        vertical-align: middle;\n",
       "    }\n",
       "\n",
       "    .dataframe tbody tr th {\n",
       "        vertical-align: top;\n",
       "    }\n",
       "\n",
       "    .dataframe thead th {\n",
       "        text-align: right;\n",
       "    }\n",
       "</style>\n",
       "<table border=\"1\" class=\"dataframe\">\n",
       "  <thead>\n",
       "    <tr style=\"text-align: right;\">\n",
       "      <th></th>\n",
       "      <th>EMOTION</th>\n",
       "      <th>TEXT</th>\n",
       "      <th>UNAMED</th>\n",
       "    </tr>\n",
       "  </thead>\n",
       "  <tbody>\n",
       "    <tr>\n",
       "      <th>0</th>\n",
       "      <td>fear</td>\n",
       "      <td>Every time I imagine that someone I love or I ...</td>\n",
       "      <td>NaN</td>\n",
       "    </tr>\n",
       "    <tr>\n",
       "      <th>1</th>\n",
       "      <td>anger</td>\n",
       "      <td>When I had been obviously unjustly treated and...</td>\n",
       "      <td>NaN</td>\n",
       "    </tr>\n",
       "    <tr>\n",
       "      <th>2</th>\n",
       "      <td>sadness</td>\n",
       "      <td>When I think about the short time that we live...</td>\n",
       "      <td>NaN</td>\n",
       "    </tr>\n",
       "    <tr>\n",
       "      <th>3</th>\n",
       "      <td>disgust</td>\n",
       "      <td>At a gathering I found myself involuntarily si...</td>\n",
       "      <td>NaN</td>\n",
       "    </tr>\n",
       "    <tr>\n",
       "      <th>4</th>\n",
       "      <td>shame</td>\n",
       "      <td>When I realized that I was directing the feeli...</td>\n",
       "      <td>NaN</td>\n",
       "    </tr>\n",
       "  </tbody>\n",
       "</table>\n",
       "</div>"
      ],
      "text/plain": [
       "   EMOTION                                               TEXT UNAMED\n",
       "0     fear  Every time I imagine that someone I love or I ...    NaN\n",
       "1    anger  When I had been obviously unjustly treated and...    NaN\n",
       "2  sadness  When I think about the short time that we live...    NaN\n",
       "3  disgust  At a gathering I found myself involuntarily si...    NaN\n",
       "4    shame  When I realized that I was directing the feeli...    NaN"
      ]
     },
     "execution_count": 4,
     "metadata": {},
     "output_type": "execute_result"
    }
   ],
   "source": [
    "data.head()"
   ]
  },
  {
   "cell_type": "code",
   "execution_count": 5,
   "id": "c753673f",
   "metadata": {},
   "outputs": [],
   "source": [
    "data['TEXT']=data['TEXT'].apply(lambda a:\" \".join(a.lower() for a in a.split()))"
   ]
  },
  {
   "cell_type": "code",
   "execution_count": 6,
   "id": "af7828f7",
   "metadata": {},
   "outputs": [],
   "source": [
    "data['TEXT']=data['TEXT'].apply(lambda a:\" \".join(a.replace('[^\\w\\s]','') for a in a.split()))"
   ]
  },
  {
   "cell_type": "code",
   "execution_count": 7,
   "id": "669e1afb",
   "metadata": {},
   "outputs": [],
   "source": [
    "stop = stopwords.words('english')"
   ]
  },
  {
   "cell_type": "code",
   "execution_count": 8,
   "id": "5f2f842d",
   "metadata": {},
   "outputs": [],
   "source": [
    "data['TEXT']=data['TEXT'].apply(lambda a:\" \".join(a for a in a.split() if a not in stop))"
   ]
  },
  {
   "cell_type": "code",
   "execution_count": 9,
   "id": "a91aca01",
   "metadata": {},
   "outputs": [],
   "source": [
    "data['TEXT']=data['TEXT'].apply(lambda a:str(TextBlob(a).correct()))"
   ]
  },
  {
   "cell_type": "code",
   "execution_count": 10,
   "id": "3f9ebaba",
   "metadata": {},
   "outputs": [],
   "source": [
    "st = PorterStemmer()\n",
    "data['TEXT']= data['TEXT'].apply(lambda a:\" \".join([st.stem(word) for word in a.split()]))"
   ]
  },
  {
   "cell_type": "code",
   "execution_count": 11,
   "id": "71a45f26",
   "metadata": {},
   "outputs": [
    {
     "data": {
      "text/html": [
       "<div>\n",
       "<style scoped>\n",
       "    .dataframe tbody tr th:only-of-type {\n",
       "        vertical-align: middle;\n",
       "    }\n",
       "\n",
       "    .dataframe tbody tr th {\n",
       "        vertical-align: top;\n",
       "    }\n",
       "\n",
       "    .dataframe thead th {\n",
       "        text-align: right;\n",
       "    }\n",
       "</style>\n",
       "<table border=\"1\" class=\"dataframe\">\n",
       "  <thead>\n",
       "    <tr style=\"text-align: right;\">\n",
       "      <th></th>\n",
       "      <th>EMOTION</th>\n",
       "      <th>TEXT</th>\n",
       "      <th>UNAMED</th>\n",
       "    </tr>\n",
       "  </thead>\n",
       "  <tbody>\n",
       "    <tr>\n",
       "      <th>0</th>\n",
       "      <td>fear</td>\n",
       "      <td>everi time imagin someon love could contact se...</td>\n",
       "      <td>NaN</td>\n",
       "    </tr>\n",
       "    <tr>\n",
       "      <th>1</th>\n",
       "      <td>anger</td>\n",
       "      <td>obvious unjustli treat possibl elucid this.</td>\n",
       "      <td>NaN</td>\n",
       "    </tr>\n",
       "    <tr>\n",
       "      <th>2</th>\n",
       "      <td>sadness</td>\n",
       "      <td>think short time live relat period life think ...</td>\n",
       "      <td>NaN</td>\n",
       "    </tr>\n",
       "    <tr>\n",
       "      <th>3</th>\n",
       "      <td>disgust</td>\n",
       "      <td>gather found involuntarili sit next two peopl ...</td>\n",
       "      <td>NaN</td>\n",
       "    </tr>\n",
       "    <tr>\n",
       "      <th>4</th>\n",
       "      <td>shame</td>\n",
       "      <td>realiz direct feel discont partner way tri put...</td>\n",
       "      <td>NaN</td>\n",
       "    </tr>\n",
       "  </tbody>\n",
       "</table>\n",
       "</div>"
      ],
      "text/plain": [
       "   EMOTION                                               TEXT UNAMED\n",
       "0     fear  everi time imagin someon love could contact se...    NaN\n",
       "1    anger        obvious unjustli treat possibl elucid this.    NaN\n",
       "2  sadness  think short time live relat period life think ...    NaN\n",
       "3  disgust  gather found involuntarili sit next two peopl ...    NaN\n",
       "4    shame  realiz direct feel discont partner way tri put...    NaN"
      ]
     },
     "execution_count": 11,
     "metadata": {},
     "output_type": "execute_result"
    }
   ],
   "source": [
    "data.head()"
   ]
  },
  {
   "cell_type": "markdown",
   "id": "44824b8c",
   "metadata": {},
   "source": [
    "# Label Encoding"
   ]
  },
  {
   "cell_type": "code",
   "execution_count": 12,
   "id": "d5422211",
   "metadata": {},
   "outputs": [
    {
     "data": {
      "text/plain": [
       "EMOTION\n",
       "joy        1091\n",
       "sadness    1082\n",
       "anger      1079\n",
       "fear       1076\n",
       "shame      1071\n",
       "disgust    1066\n",
       "guilt      1050\n",
       "Name: count, dtype: int64"
      ]
     },
     "execution_count": 12,
     "metadata": {},
     "output_type": "execute_result"
    }
   ],
   "source": [
    "data['EMOTION'].value_counts()"
   ]
  },
  {
   "cell_type": "code",
   "execution_count": 13,
   "id": "7bdfef1c",
   "metadata": {},
   "outputs": [],
   "source": [
    "object = preprocessing.LabelEncoder()\n",
    "data['EMOTION']=object.fit_transform(data['EMOTION'])"
   ]
  },
  {
   "cell_type": "code",
   "execution_count": 14,
   "id": "164f4333",
   "metadata": {},
   "outputs": [
    {
     "data": {
      "text/plain": [
       "EMOTION\n",
       "4    1091\n",
       "5    1082\n",
       "0    1079\n",
       "2    1076\n",
       "6    1071\n",
       "1    1066\n",
       "3    1050\n",
       "Name: count, dtype: int64"
      ]
     },
     "execution_count": 14,
     "metadata": {},
     "output_type": "execute_result"
    }
   ],
   "source": [
    "data['EMOTION'].value_counts()"
   ]
  },
  {
   "cell_type": "markdown",
   "id": "a77e6435",
   "metadata": {},
   "source": [
    "# Train-Test Split"
   ]
  },
  {
   "cell_type": "code",
   "execution_count": 15,
   "id": "86a21b59",
   "metadata": {},
   "outputs": [],
   "source": [
    "Xtrain, Xtest, Ytrain, Ytest = model_selection.train_test_split(data['TEXT'],data['EMOTION'],stratify=data['EMOTION'])"
   ]
  },
  {
   "cell_type": "markdown",
   "id": "05796b5c",
   "metadata": {},
   "source": [
    "# Feature Engineering"
   ]
  },
  {
   "cell_type": "code",
   "execution_count": 22,
   "id": "9201f4a1",
   "metadata": {},
   "outputs": [],
   "source": [
    "cv = CountVectorizer()\n",
    "cv.fit(data['TEXT'])\n",
    "cv_xtrain = cv.transform(Xtrain)\n",
    "cv_xtest = cv.transform(Xtest)"
   ]
  },
  {
   "cell_type": "code",
   "execution_count": 23,
   "id": "7c2a5ab2",
   "metadata": {},
   "outputs": [],
   "source": [
    "tv = TfidfVectorizer()\n",
    "tv.fit(data['TEXT'])\n",
    "tv_xtrain = tv.transform(Xtrain)\n",
    "tv_xtest = tv.transform(Xtest)"
   ]
  },
  {
   "cell_type": "markdown",
   "id": "7ce5b482",
   "metadata": {},
   "source": [
    "# Model Building Phase"
   ]
  },
  {
   "cell_type": "code",
   "execution_count": 31,
   "id": "fe2001f5",
   "metadata": {},
   "outputs": [],
   "source": [
    "def build(model_initializer, independent_variables_training,target, independent_variable_test):\n",
    "    model_initializer.fit(independent_variables_training,target)\n",
    "    modelPred=model_initializer.predict(independent_variable_test)\n",
    "    return metrics.accuracy_score(modelPred,Ytest)"
   ]
  },
  {
   "cell_type": "markdown",
   "id": "f29e8cc5",
   "metadata": {},
   "source": [
    "# Multinomial Naive Bayes"
   ]
  },
  {
   "cell_type": "code",
   "execution_count": 32,
   "id": "5a96dfb6",
   "metadata": {},
   "outputs": [
    {
     "name": "stdout",
     "output_type": "stream",
     "text": [
      "0.55401809473124\n"
     ]
    }
   ],
   "source": [
    "output = build(naive_bayes.MultinomialNB(),cv_xtrain,Ytrain,cv_xtest)\n",
    "print(output)"
   ]
  },
  {
   "cell_type": "code",
   "execution_count": 33,
   "id": "29e9751a",
   "metadata": {},
   "outputs": [
    {
     "name": "stdout",
     "output_type": "stream",
     "text": [
      "0.5620010643959553\n"
     ]
    }
   ],
   "source": [
    "output = build(naive_bayes.MultinomialNB(),tv_xtrain,Ytrain,tv_xtest)\n",
    "print(output)"
   ]
  },
  {
   "cell_type": "markdown",
   "id": "9f9b09ca",
   "metadata": {},
   "source": [
    "# Linear Classifier/Logistic Regression"
   ]
  },
  {
   "cell_type": "code",
   "execution_count": 34,
   "id": "3f60fc9e",
   "metadata": {},
   "outputs": [
    {
     "name": "stdout",
     "output_type": "stream",
     "text": [
      "0.5550824906865354\n"
     ]
    },
    {
     "name": "stderr",
     "output_type": "stream",
     "text": [
      "C:\\Users\\emnag\\AppData\\Local\\Programs\\Python\\Python39\\lib\\site-packages\\sklearn\\linear_model\\_logistic.py:458: ConvergenceWarning: lbfgs failed to converge (status=1):\n",
      "STOP: TOTAL NO. of ITERATIONS REACHED LIMIT.\n",
      "\n",
      "Increase the number of iterations (max_iter) or scale the data as shown in:\n",
      "    https://scikit-learn.org/stable/modules/preprocessing.html\n",
      "Please also refer to the documentation for alternative solver options:\n",
      "    https://scikit-learn.org/stable/modules/linear_model.html#logistic-regression\n",
      "  n_iter_i = _check_optimize_result(\n"
     ]
    }
   ],
   "source": [
    "output = build(linear_model.LogisticRegression(),cv_xtrain,Ytrain,cv_xtest)\n",
    "print(output)"
   ]
  },
  {
   "cell_type": "code",
   "execution_count": 35,
   "id": "edc718c7",
   "metadata": {},
   "outputs": [
    {
     "name": "stdout",
     "output_type": "stream",
     "text": [
      "0.5779670037253859\n"
     ]
    }
   ],
   "source": [
    "output = build(linear_model.LogisticRegression(),tv_xtrain,Ytrain,tv_xtest)\n",
    "print(output)"
   ]
  },
  {
   "cell_type": "markdown",
   "id": "30985e2c",
   "metadata": {},
   "source": [
    "# Support-Vector Machine"
   ]
  },
  {
   "cell_type": "code",
   "execution_count": 36,
   "id": "10288b37",
   "metadata": {},
   "outputs": [
    {
     "name": "stdout",
     "output_type": "stream",
     "text": [
      "0.5290047897817989\n"
     ]
    }
   ],
   "source": [
    "output = build(svm.SVC(),cv_xtrain,Ytrain,cv_xtest)\n",
    "print(output)"
   ]
  },
  {
   "cell_type": "code",
   "execution_count": 37,
   "id": "d8582e2e",
   "metadata": {},
   "outputs": [
    {
     "name": "stdout",
     "output_type": "stream",
     "text": [
      "0.5763704097924428\n"
     ]
    }
   ],
   "source": [
    "output = build(svm.SVC(),tv_xtrain,Ytrain,tv_xtest)\n",
    "print(output)"
   ]
  },
  {
   "cell_type": "markdown",
   "id": "9e16df43",
   "metadata": {},
   "source": [
    "# Random Forest"
   ]
  },
  {
   "cell_type": "code",
   "execution_count": 38,
   "id": "fca32ef4",
   "metadata": {},
   "outputs": [
    {
     "name": "stdout",
     "output_type": "stream",
     "text": [
      "0.532197977647685\n"
     ]
    }
   ],
   "source": [
    "output = build(ensemble.RandomForestClassifier(),cv_xtrain,Ytrain,cv_xtest)\n",
    "print(output)"
   ]
  },
  {
   "cell_type": "code",
   "execution_count": 39,
   "id": "c8edd4e5",
   "metadata": {},
   "outputs": [
    {
     "name": "stdout",
     "output_type": "stream",
     "text": [
      "0.5529536987759447\n"
     ]
    }
   ],
   "source": [
    "output = build(ensemble.RandomForestClassifier(),tv_xtrain,Ytrain,tv_xtest)\n",
    "print(output)"
   ]
  },
  {
   "cell_type": "markdown",
   "id": "1b649854",
   "metadata": {},
   "source": [
    "# Confusion Matrix for the Selected Model"
   ]
  },
  {
   "cell_type": "code",
   "execution_count": 41,
   "id": "aab43c62",
   "metadata": {},
   "outputs": [
    {
     "name": "stdout",
     "output_type": "stream",
     "text": [
      "              precision    recall  f1-score   support\n",
      "\n",
      "           0       0.48      0.50      0.49       270\n",
      "           1       0.61      0.65      0.63       266\n",
      "           2       0.69      0.68      0.68       269\n",
      "           3       0.47      0.42      0.45       262\n",
      "           4       0.63      0.75      0.68       273\n",
      "           5       0.69      0.58      0.63       271\n",
      "           6       0.46      0.47      0.47       268\n",
      "\n",
      "    accuracy                           0.58      1879\n",
      "   macro avg       0.58      0.58      0.58      1879\n",
      "weighted avg       0.58      0.58      0.58      1879\n",
      "\n",
      "\n"
     ]
    }
   ],
   "source": [
    "classifier = linear_model.LogisticRegression().fit(tv_xtrain,Ytrain)\n",
    "val_predictions = classifier.predict(tv_xtest)\n",
    "y_true, y_pred = Ytest, val_predictions\n",
    "print(classification_report(y_true,y_pred))\n",
    "print()"
   ]
  },
  {
   "cell_type": "code",
   "execution_count": null,
   "id": "b04ea71f",
   "metadata": {},
   "outputs": [],
   "source": []
  },
  {
   "cell_type": "code",
   "execution_count": null,
   "id": "3639cd47",
   "metadata": {},
   "outputs": [],
   "source": []
  },
  {
   "cell_type": "code",
   "execution_count": null,
   "id": "ec30023c",
   "metadata": {},
   "outputs": [],
   "source": []
  }
 ],
 "metadata": {
  "kernelspec": {
   "display_name": "Python 3 (ipykernel)",
   "language": "python",
   "name": "python3"
  },
  "language_info": {
   "codemirror_mode": {
    "name": "ipython",
    "version": 3
   },
   "file_extension": ".py",
   "mimetype": "text/x-python",
   "name": "python",
   "nbconvert_exporter": "python",
   "pygments_lexer": "ipython3",
   "version": "3.9.7"
  }
 },
 "nbformat": 4,
 "nbformat_minor": 5
}
